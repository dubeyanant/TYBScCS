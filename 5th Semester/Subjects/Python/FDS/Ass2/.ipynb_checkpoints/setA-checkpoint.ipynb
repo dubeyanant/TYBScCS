{
 "cells": [
  {
   "cell_type": "code",
   "execution_count": 1,
   "metadata": {
    "colab": {
     "base_uri": "https://localhost:8080/"
    },
    "id": "_lv2rNzyQsA_",
    "outputId": "917d656a-e2da-4b9f-e628-20a51f72b7ef"
   },
   "outputs": [
    {
     "name": "stdout",
     "output_type": "stream",
     "text": [
      "Original flattened array:\n",
      "  [[0 1]\n",
      " [2 3]]\n",
      "Maximum value of above flattened array:\n",
      "  3\n",
      "Minimum value of above flattened array:\n",
      "  0\n"
     ]
    }
   ],
   "source": [
    "#Q1\n",
    "import numpy as np\n",
    "arr=np.array([[0, 1],[2, 3]])\n",
    "print(\"Original flattened array:\\n \",arr)\n",
    "maximum = arr.max()\n",
    "print(\"Maximum value of above flattened array:\\n \", maximum )\n",
    "minimum = arr.min()\n",
    "print(\"Minimum value of above flattened array:\\n \", minimum)"
   ]
  },
  {
   "cell_type": "code",
   "execution_count": 2,
   "metadata": {
    "colab": {
     "base_uri": "https://localhost:8080/"
    },
    "id": "xmQ_i95YTglJ",
    "outputId": "d8fb3705-d810-4ff1-b6f8-43511841795f"
   },
   "outputs": [
    {
     "name": "stdout",
     "output_type": "stream",
     "text": [
      "Euclidian Distance is:  4.47213595499958\n"
     ]
    }
   ],
   "source": [
    "#Q2\n",
    "import numpy as np\n",
    "p1 = np.array((4, 7))\n",
    "p2 = np.array((2, 3))\n",
    "dist=np.linalg.norm(p1-p2)\n",
    "print(\"Euclidian Distance is: \",dist)"
   ]
  },
  {
   "cell_type": "code",
   "execution_count": 3,
   "metadata": {
    "colab": {
     "base_uri": "https://localhost:8080/"
    },
    "id": "vHcyBmT-U8Zf",
    "outputId": "ab30478d-832d-429d-a34d-eec652b342a9"
   },
   "outputs": [
    {
     "name": "stdout",
     "output_type": "stream",
     "text": [
      "             Age    Rating\n",
      "count   6.000000  5.000000\n",
      "mean   23.666667  3.572000\n",
      "std     4.926121  0.831968\n",
      "min    17.000000  2.290000\n",
      "25%    20.500000  3.240000\n",
      "50%    23.500000  3.800000\n",
      "75%    27.250000  4.230000\n",
      "max    30.000000  4.300000\n"
     ]
    }
   ],
   "source": [
    "#Q3\n",
    "import pandas as pd\n",
    "import numpy as np\n",
    "data = {'Name': pd.Series(['Priya','Meena','Raju','Nila','Seeta','Geeta']),'Age':pd.Series([17, 25, 22, 30, 28, 20]), 'Rating':pd.Series([4.23,3.24,2.29,4.30,3.8])}\n",
    "df = pd.DataFrame(data)\n",
    "print(df.describe())"
   ]
  },
  {
   "cell_type": "code",
   "execution_count": 5,
   "metadata": {
    "colab": {
     "base_uri": "https://localhost:8080/"
    },
    "id": "tnQyyScikgZ1",
    "outputId": "c0ae2334-d096-405e-cdc2-591fba1a9e93"
   },
   "outputs": [
    {
     "name": "stdout",
     "output_type": "stream",
     "text": [
      "Manhattan distance is:  9\n"
     ]
    }
   ],
   "source": [
    "#Q4\n",
    "from scipy.spatial.distance import cityblock\n",
    "\n",
    "\n",
    "A = [2, 4, 4, 6]\n",
    "B = [5, 5, 7, 8]\n",
    "\n",
    "print('Manhattan distance is: ', cityblock(A, B))\n"
   ]
  },
  {
   "cell_type": "code",
   "execution_count": 6,
   "metadata": {
    "colab": {
     "base_uri": "https://localhost:8080/",
     "height": 317
    },
    "id": "UcGYLdTjlHRc",
    "outputId": "5ae236e0-ad71-4349-a25e-cf0afa8a3a07"
   },
   "outputs": [
    {
     "name": "stdout",
     "output_type": "stream",
     "text": [
      "nums:  [0.5, 0.7, 1.0, 1.2, 1.3, 2.1]\n",
      "bins:  [0, 1, 2, 3]\n",
      "Result:  (array([2, 3, 1], dtype=int64), array([0, 1, 2, 3]))\n"
     ]
    },
    {
     "data": {
      "image/png": "[encoded data removed]",
      "text/plain": [
       "<Figure size 432x288 with 1 Axes>"
      ]
     },
     "metadata": {
      "needs_background": "light"
     },
     "output_type": "display_data"
    }
   ],
   "source": [
    "#Q5\n",
    "import numpy as np\n",
    "import matplotlib.pyplot as plt\n",
    "nums = ([0.5, 0.7, 1., 1.2, 1.3, 2.1])\n",
    "bins = ([0, 1, 2, 3])\n",
    "print(\"nums: \", nums)\n",
    "print(\"bins: \", bins)\n",
    "print(\"Result: \", np.histogram(nums, bins))\n",
    "plt.hist(nums, bins=bins)\n",
    "plt.show()\n"
   ]
  },
  {
   "cell_type": "code",
   "execution_count": 7,
   "metadata": {
    "colab": {
     "base_uri": "https://localhost:8080/"
    },
    "id": "CV90rcoqopS1",
    "outputId": "95b30ced-bb90-4143-fba0-dd72e5d24aea"
   },
   "outputs": [
    {
     "name": "stdout",
     "output_type": "stream",
     "text": [
      "       Graduation Percentage        Age\n",
      "count               6.000000   6.000000\n",
      "mean               81.000000  23.666667\n",
      "std                 8.414274   4.926121\n",
      "min                70.000000  17.000000\n",
      "25%                74.250000  20.500000\n",
      "50%                83.000000  23.500000\n",
      "75%                86.500000  27.250000\n",
      "max                91.000000  30.000000\n"
     ]
    }
   ],
   "source": [
    "#Q6\n",
    "import numpy as np\n",
    "import pandas as pd\n",
    "students = {'Name': pd.Series(['Priya','Meena','Raju','Nila','Seeta','Geeta']), 'Graduation Percentage': pd.Series([70, 87, 72, 91, 81, 85]),'Age':pd.Series([17, 25, 22, 30, 28, 20])}\n",
    "df = pd.DataFrame(students)\n",
    "print(df.describe())"
   ]
  }
 ],
 "metadata": {
  "colab": {
   "collapsed_sections": [],
   "name": "FDS assignment2SETA.ipynb",
   "provenance": []
  },
  "kernelspec": {
   "display_name": "Python 3 (ipykernel)",
   "language": "python",
   "name": "python3"
  },
  "language_info": {
   "codemirror_mode": {
    "name": "ipython",
    "version": 3
   },
   "file_extension": ".py",
   "mimetype": "text/x-python",
   "name": "python",
   "nbconvert_exporter": "python",
   "pygments_lexer": "ipython3",
   "version": "3.9.7"
  }
 },
 "nbformat": 4,
 "nbformat_minor": 1
}
